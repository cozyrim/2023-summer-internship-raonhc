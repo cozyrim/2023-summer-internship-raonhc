{
  "nbformat": 4,
  "nbformat_minor": 0,
  "metadata": {
    "colab": {
      "provenance": [],
      "gpuType": "T4",
      "authorship_tag": "ABX9TyNVeI/4u+JJqm4X3HyLnEgx",
      "include_colab_link": true
    },
    "kernelspec": {
      "name": "python3",
      "display_name": "Python 3"
    },
    "language_info": {
      "name": "python"
    },
    "accelerator": "GPU"
  },
  "cells": [
    {
      "cell_type": "markdown",
      "metadata": {
        "id": "view-in-github",
        "colab_type": "text"
      },
      "source": [
        "<a href=\"https://colab.research.google.com/github/cozyrim/Summer-Field-Practice/blob/master/%ED%95%84%EA%B8%B0%EC%B2%B4.ipynb\" target=\"_parent\"><img src=\"https://colab.research.google.com/assets/colab-badge.svg\" alt=\"Open In Colab\"/></a>"
      ]
    },
    {
      "cell_type": "code",
      "execution_count": null,
      "metadata": {
        "colab": {
          "base_uri": "https://localhost:8080/",
          "height": 1000
        },
        "id": "c-p_i_nXvxjP",
        "outputId": "f3325000-66e7-4e25-eb24-cb143744355d"
      },
      "outputs": [
        {
          "output_type": "stream",
          "name": "stdout",
          "text": [
            "X_train_shape: (60000, 28, 28)\n",
            "y_train_shape: (60000,)\n",
            "X_test_shape: (10000, 28, 28)\n",
            "y_test_shape: (10000,)\n"
          ]
        },
        {
          "output_type": "display_data",
          "data": {
            "text/plain": [
              "<Figure size 640x480 with 1 Axes>"
            ],
            "image/png": "[encoded data removed]"
          },
          "metadata": {}
        },
        {
          "output_type": "stream",
          "name": "stdout",
          "text": [
            "X_train_shape: (60000, 784)\n",
            "X_test_shape: (10000, 784)\n",
            "y_train_shape: (60000, 10)\n",
            "y_test_shape: (10000, 10)\n",
            "Model: \"sequential_4\"\n",
            "_________________________________________________________________\n",
            " Layer (type)                Output Shape              Param #   \n",
            "=================================================================\n",
            " dense_8 (Dense)             (None, 128)               100480    \n",
            "                                                                 \n",
            " dense_9 (Dense)             (None, 10)                1290      \n",
            "                                                                 \n",
            "=================================================================\n",
            "Total params: 101,770\n",
            "Trainable params: 101,770\n",
            "Non-trainable params: 0\n",
            "_________________________________________________________________\n",
            "Epoch 1/5\n",
            "1500/1500 [==============================] - 6s 4ms/step - loss: 0.2826 - acc: 0.9194 - val_loss: 0.1622 - val_acc: 0.9551\n",
            "Epoch 2/5\n",
            "1500/1500 [==============================] - 5s 3ms/step - loss: 0.1254 - acc: 0.9631 - val_loss: 0.1178 - val_acc: 0.9643\n",
            "Epoch 3/5\n",
            "1500/1500 [==============================] - 4s 3ms/step - loss: 0.0874 - acc: 0.9743 - val_loss: 0.1052 - val_acc: 0.9693\n",
            "Epoch 4/5\n",
            "1500/1500 [==============================] - 4s 3ms/step - loss: 0.0649 - acc: 0.9800 - val_loss: 0.0896 - val_acc: 0.9751\n",
            "Epoch 5/5\n",
            "1500/1500 [==============================] - 5s 3ms/step - loss: 0.0502 - acc: 0.9841 - val_loss: 0.0867 - val_acc: 0.9748\n",
            "313/313 [==============================] - 1s 2ms/step - loss: 0.0792 - acc: 0.9753\n",
            "손실률: 0.07923968881368637\n",
            "정확도: 0.9753000140190125\n"
          ]
        }
      ],
      "source": [
        "import matplotlib.pyplot as plt  # 그림으로 보기 위한 matplotlib 라이브러리 import\n",
        "import tensorflow\n",
        "from tensorflow.keras.datasets import mnist  # 라이브러리가 기본으로 제공하는 mnist 데이터셋\n",
        "from tensorflow.keras.utils import to_categorical  # one-hot encoding 을 위한 함수\n",
        "from tensorflow.keras.models import Sequential  # 레이어를 층층히 쌓아가는 연쇄 모델\n",
        "from tensorflow.keras.layers import Dense  # 완전연결층\n",
        "from tensorflow.keras.models import load_model  # 저장된 모델 불러오기\n",
        "\n",
        "(X_train, y_train), (X_test, y_test) = mnist.load_data()\n",
        "# X_train 입력 데이터, y_train 정답 데이터\n",
        "# 데이터셋 차원 확인\n",
        "print(f\"X_train_shape: {X_train.shape}\")  # X_train_shape: (60000, 28, 28)\n",
        "print(f\"y_train_shape: {y_train.shape}\")  # y_train_shape: (60000,)\n",
        "print(f\"X_test_shape: {X_test.shape}\")  # X_test_shape: (10000, 28, 28)\n",
        "print(f\"y_test_shape: {y_test.shape}\")  # y_test_shape: (10000,)\n",
        "\n",
        "# 데이터 전처리\n",
        "plt.imshow(X_train[1])\n",
        "plt.show()\n",
        "input_shape = X_train.shape[1] * X_train.shape[2]  # 그림의 크기: 28 * 28\n",
        "number_of_classes = len(set(y_train))  # 레이블의 종류. 0~9로 10개\n",
        "\n",
        "X_train = X_train / 255.0\n",
        "X_test = X_test / 255\n",
        "X_train = X_train.reshape(-1, input_shape)  # 3차원 -> 2차원\n",
        "X_test = X_test.reshape(-1, input_shape)\n",
        "\n",
        "print(f\"X_train_shape: {X_train.shape}\")  # X_train_shape: (60000, 784)\n",
        "print(f\"X_test_shape: {X_test.shape}\")  # X_test_shape: (10000, 784)\n",
        "\n",
        "y_train = to_categorical(y_train, number_of_classes)  # 원-핫 인코딩. 1차원 -> 2차원\n",
        "y_test = to_categorical(y_test, number_of_classes)\n",
        "\n",
        "print(f\"y_train_shape: {y_train.shape}\")  # y_train_shape: (60000, 10)\n",
        "print(f\"y_test_shape: {y_test.shape}\")  # y_test_shape: (10000, 10)\n",
        "\n",
        "\n",
        "model = Sequential()  # 모델 선언\n",
        "\n",
        "# 완전연결층 추가. 처음 쌓는 레이어는 input_shape: 데이터 차원(개수 제외)을 적어줘야함.\n",
        "model.add(Dense(128, activation=\"relu\", input_shape=X_train.shape[1:]))\n",
        "\n",
        "# 출력하는 완전연결층 추가. 다중분류이므로, softmax 활성화함수 사용\n",
        "model.add(Dense(y_train.shape[1], activation=\"softmax\"))\n",
        "\n",
        "# 모델 컴파일. 다중분류이므로 categorical_crossentropy, 정확도 표기\n",
        "model.compile(loss=\"categorical_crossentropy\",\n",
        "              optimizer=\"adam\",\n",
        "              metrics=[\"acc\"])\n",
        "\n",
        "model.summary()  # 간단하게 요약해 출력\n",
        "\n",
        "history = model.fit(X_train, y_train, batch_size=32, epochs=5, validation_split=0.2)\n",
        "loss, acc = model.evaluate(X_test, y_test)  # 학습 완료 후 검증\n",
        "print(\"손실률:\", loss)  # 손실률:\n",
        "print(\"정확도:\", acc)  # 정확도:\n"
      ]
    },
    {
      "cell_type": "code",
      "source": [
        "model.save(\"저장할 모델의 위치.h5\")\n",
        "loaded_model = load_model(\"저장할 모델의 위치.h5\")\n",
        "\n",
        "plt.imshow(X_test[1].reshape(28, 28))  # 데이터 일자로 펴주기\n",
        "plt.show()\n",
        "\n",
        "y_prob = model.predict(X_test[:2])[1]  # 다중분류이므로, predict_classes\n",
        "predicted = y_prob.argmax(axis=-1)\n",
        "\n",
        "print(\"real:\", y_test[1].argmax())\n",
        "print(\"predict:\", predicted)"
      ],
      "metadata": {
        "colab": {
          "base_uri": "https://localhost:8080/",
          "height": 484
        },
        "id": "qmLVRzUw3siG",
        "outputId": "c527b854-da47-41f1-abec-9d885c6bef01"
      },
      "execution_count": null,
      "outputs": [
        {
          "output_type": "display_data",
          "data": {
            "text/plain": [
              "<Figure size 640x480 with 1 Axes>"
            ],
            "image/png": "[encoded data removed]"
          },
          "metadata": {}
        },
        {
          "output_type": "stream",
          "name": "stdout",
          "text": [
            "1/1 [==============================] - 0s 29ms/step\n",
            "real: 2\n",
            "predict: 2\n"
          ]
        }
      ]
    }
  ]
}
